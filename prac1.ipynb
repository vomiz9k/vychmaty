{
 "cells": [
  {
   "attachments": {},
   "cell_type": "markdown",
   "id": "76543ac1",
   "metadata": {},
   "source": [
    "Вычислительная математика, практикум 1.\n",
    "Линейные системы и метод наименьших квадратов с помощью LU-разложения"
   ]
  },
  {
   "cell_type": "code",
   "execution_count": 2,
   "id": "4fda0b62",
   "metadata": {},
   "outputs": [],
   "source": [
    "import numpy as np\n",
    "\n",
    "def LU_decompose(input: np.array):\n",
    "    n = input.shape[0]\n",
    "    U = input\n",
    "    L = np.eye(n, dtype=input.dtype)\n",
    "\n",
    "    for k in range(n - 1):\n",
    "        L[k+1:, k] = U[k+1:, k] / U[k, k]\n",
    "        U[k+1:, k:] -= np.expand_dims(L[k + 1:, k], 1) @ np.expand_dims(U[k, k:], 0)\n",
    "\n",
    "    return L, U"
   ]
  },
  {
   "cell_type": "code",
   "execution_count": 3,
   "id": "b02d48a2",
   "metadata": {},
   "outputs": [],
   "source": [
    "def solve_system(A, b):\n",
    "    L, U = LU_decompose(A)\n",
    "    n = A.shape[0]\n",
    "    \n",
    "    def solve_upper(A, b):\n",
    "        x = np.zeros(n)\n",
    "        for i in range(n):\n",
    "            x[i] = b[i] / A[i, i]\n",
    "            b[i + 1:] -= A[i + 1:, i] * x[i]\n",
    "        return x\n",
    "\n",
    "    def solve_lower(A, b):\n",
    "        x = np.zeros(n)\n",
    "        for i in range(n - 1, -1, -1):\n",
    "            x[i] = b[i] / U[i, i]\n",
    "            b[:i] -= A[:i, i] * x[i]\n",
    "        return x\n",
    "\n",
    "    y = solve_upper(L, b)\n",
    "    x = solve_lower(U, y)\n",
    "    return x"
   ]
  },
  {
   "cell_type": "code",
   "execution_count": 4,
   "id": "cc456d87",
   "metadata": {},
   "outputs": [],
   "source": [
    "def solve_lstsq(A, b):\n",
    "    L, U = LU_decompose(A.T @ A)\n",
    "    y = solve_system(L, A.T @ b)\n",
    "    x = solve_system(U, y)\n",
    "    return x"
   ]
  },
  {
   "cell_type": "code",
   "execution_count": 5,
   "id": "02a556e2",
   "metadata": {},
   "outputs": [
    {
     "name": "stdout",
     "output_type": "stream",
     "text": [
      "bad lstsq solver, i=47, diff=0.00012120944744563072\n"
     ]
    }
   ],
   "source": [
    "eps = 1e-4\n",
    "for i in range(1, 100):\n",
    "    A = np.random.randn(i, i)\n",
    "    while (np.linalg.matrix_rank(A) < i):\n",
    "        A = np.random.randn(i, i)\n",
    "    b = np.random.randn(i)\n",
    "\n",
    "    if (np.mean(np.abs(np.linalg.solve(A, b) - solve_system(A, b))) > eps):\n",
    "        print(\"bad system solver\")\n",
    "\n",
    "    if (np.mean(np.abs(np.linalg.lstsq(A, b, rcond=None)[0] - solve_lstsq(A, b))) > eps):\n",
    "        print(f\"bad lstsq solver, i={i}, diff={np.mean(np.abs(np.linalg.lstsq(A, b, rcond=None)[0] - solve_lstsq(A, b)))}\")\n"
   ]
  }
 ],
 "metadata": {
  "kernelspec": {
   "display_name": "Python 3",
   "language": "python",
   "name": "python3"
  },
  "language_info": {
   "codemirror_mode": {
    "name": "ipython",
    "version": 3
   },
   "file_extension": ".py",
   "mimetype": "text/x-python",
   "name": "python",
   "nbconvert_exporter": "python",
   "pygments_lexer": "ipython3",
   "version": "3.9.7"
  }
 },
 "nbformat": 4,
 "nbformat_minor": 5
}
